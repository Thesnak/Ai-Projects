{
 "cells": [
  {
   "cell_type": "code",
   "execution_count": 25,
   "id": "072a77b7",
   "metadata": {
    "ExecuteTime": {
     "end_time": "2023-01-08T20:51:06.061544Z",
     "start_time": "2023-01-08T20:51:05.994580Z"
    }
   },
   "outputs": [
    {
     "data": {
      "text/html": [
       "<div>\n",
       "<style scoped>\n",
       "    .dataframe tbody tr th:only-of-type {\n",
       "        vertical-align: middle;\n",
       "    }\n",
       "\n",
       "    .dataframe tbody tr th {\n",
       "        vertical-align: top;\n",
       "    }\n",
       "\n",
       "    .dataframe thead th {\n",
       "        text-align: right;\n",
       "    }\n",
       "</style>\n",
       "<table border=\"1\" class=\"dataframe\">\n",
       "  <thead>\n",
       "    <tr style=\"text-align: right;\">\n",
       "      <th></th>\n",
       "      <th>Date</th>\n",
       "      <th>Open</th>\n",
       "      <th>High</th>\n",
       "      <th>Low</th>\n",
       "      <th>Close</th>\n",
       "      <th>Adj Close</th>\n",
       "      <th>Volume</th>\n",
       "    </tr>\n",
       "  </thead>\n",
       "  <tbody>\n",
       "    <tr>\n",
       "      <th>0</th>\n",
       "      <td>1996-01-01</td>\n",
       "      <td>16.009800</td>\n",
       "      <td>16.095699</td>\n",
       "      <td>15.904300</td>\n",
       "      <td>16.068300</td>\n",
       "      <td>2.426239</td>\n",
       "      <td>47600787.0</td>\n",
       "    </tr>\n",
       "    <tr>\n",
       "      <th>1</th>\n",
       "      <td>1996-01-02</td>\n",
       "      <td>16.029301</td>\n",
       "      <td>16.107401</td>\n",
       "      <td>15.826200</td>\n",
       "      <td>15.943400</td>\n",
       "      <td>2.407380</td>\n",
       "      <td>77143764.0</td>\n",
       "    </tr>\n",
       "    <tr>\n",
       "      <th>2</th>\n",
       "      <td>1996-01-03</td>\n",
       "      <td>16.205000</td>\n",
       "      <td>16.943001</td>\n",
       "      <td>16.029301</td>\n",
       "      <td>16.064400</td>\n",
       "      <td>2.425650</td>\n",
       "      <td>95695836.0</td>\n",
       "    </tr>\n",
       "    <tr>\n",
       "      <th>3</th>\n",
       "      <td>1996-01-04</td>\n",
       "      <td>15.912100</td>\n",
       "      <td>15.962900</td>\n",
       "      <td>15.701300</td>\n",
       "      <td>15.916000</td>\n",
       "      <td>2.403243</td>\n",
       "      <td>99159504.0</td>\n",
       "    </tr>\n",
       "    <tr>\n",
       "      <th>4</th>\n",
       "      <td>1996-01-05</td>\n",
       "      <td>15.853600</td>\n",
       "      <td>15.853600</td>\n",
       "      <td>15.670000</td>\n",
       "      <td>15.806700</td>\n",
       "      <td>2.386739</td>\n",
       "      <td>76213503.0</td>\n",
       "    </tr>\n",
       "    <tr>\n",
       "      <th>...</th>\n",
       "      <td>...</td>\n",
       "      <td>...</td>\n",
       "      <td>...</td>\n",
       "      <td>...</td>\n",
       "      <td>...</td>\n",
       "      <td>...</td>\n",
       "      <td>...</td>\n",
       "    </tr>\n",
       "    <tr>\n",
       "      <th>5948</th>\n",
       "      <td>2019-07-25</td>\n",
       "      <td>1264.000000</td>\n",
       "      <td>1269.050049</td>\n",
       "      <td>1227.000000</td>\n",
       "      <td>1231.500000</td>\n",
       "      <td>1231.500000</td>\n",
       "      <td>9968545.0</td>\n",
       "    </tr>\n",
       "    <tr>\n",
       "      <th>5949</th>\n",
       "      <td>2019-07-26</td>\n",
       "      <td>1231.500000</td>\n",
       "      <td>1242.500000</td>\n",
       "      <td>1210.000000</td>\n",
       "      <td>1213.800049</td>\n",
       "      <td>1213.800049</td>\n",
       "      <td>9320481.0</td>\n",
       "    </tr>\n",
       "    <tr>\n",
       "      <th>5950</th>\n",
       "      <td>2019-07-29</td>\n",
       "      <td>1216.900024</td>\n",
       "      <td>1222.000000</td>\n",
       "      <td>1205.099976</td>\n",
       "      <td>1210.949951</td>\n",
       "      <td>1210.949951</td>\n",
       "      <td>8058035.0</td>\n",
       "    </tr>\n",
       "    <tr>\n",
       "      <th>5951</th>\n",
       "      <td>2019-07-30</td>\n",
       "      <td>1213.949951</td>\n",
       "      <td>1220.000000</td>\n",
       "      <td>1175.949951</td>\n",
       "      <td>1180.900024</td>\n",
       "      <td>1180.900024</td>\n",
       "      <td>9533344.0</td>\n",
       "    </tr>\n",
       "    <tr>\n",
       "      <th>5952</th>\n",
       "      <td>2019-07-31</td>\n",
       "      <td>1175.750000</td>\n",
       "      <td>1185.000000</td>\n",
       "      <td>1162.400024</td>\n",
       "      <td>1166.250000</td>\n",
       "      <td>1166.250000</td>\n",
       "      <td>9702705.0</td>\n",
       "    </tr>\n",
       "  </tbody>\n",
       "</table>\n",
       "<p>5953 rows × 7 columns</p>\n",
       "</div>"
      ],
      "text/plain": [
       "            Date         Open         High          Low        Close  \\\n",
       "0     1996-01-01    16.009800    16.095699    15.904300    16.068300   \n",
       "1     1996-01-02    16.029301    16.107401    15.826200    15.943400   \n",
       "2     1996-01-03    16.205000    16.943001    16.029301    16.064400   \n",
       "3     1996-01-04    15.912100    15.962900    15.701300    15.916000   \n",
       "4     1996-01-05    15.853600    15.853600    15.670000    15.806700   \n",
       "...          ...          ...          ...          ...          ...   \n",
       "5948  2019-07-25  1264.000000  1269.050049  1227.000000  1231.500000   \n",
       "5949  2019-07-26  1231.500000  1242.500000  1210.000000  1213.800049   \n",
       "5950  2019-07-29  1216.900024  1222.000000  1205.099976  1210.949951   \n",
       "5951  2019-07-30  1213.949951  1220.000000  1175.949951  1180.900024   \n",
       "5952  2019-07-31  1175.750000  1185.000000  1162.400024  1166.250000   \n",
       "\n",
       "        Adj Close      Volume  \n",
       "0        2.426239  47600787.0  \n",
       "1        2.407380  77143764.0  \n",
       "2        2.425650  95695836.0  \n",
       "3        2.403243  99159504.0  \n",
       "4        2.386739  76213503.0  \n",
       "...           ...         ...  \n",
       "5948  1231.500000   9968545.0  \n",
       "5949  1213.800049   9320481.0  \n",
       "5950  1210.949951   8058035.0  \n",
       "5951  1180.900024   9533344.0  \n",
       "5952  1166.250000   9702705.0  \n",
       "\n",
       "[5953 rows x 7 columns]"
      ]
     },
     "execution_count": 25,
     "metadata": {},
     "output_type": "execute_result"
    }
   ],
   "source": [
    "import pandas as pd\n",
    "df=pd.read_csv(\"RELIANCE.NS(1).csv\")\n",
    "\n",
    "df\n"
   ]
  },
  {
   "cell_type": "code",
   "execution_count": 27,
   "id": "8bd0ddc6",
   "metadata": {
    "ExecuteTime": {
     "end_time": "2023-01-08T20:51:35.783348Z",
     "start_time": "2023-01-08T20:51:35.775351Z"
    }
   },
   "outputs": [],
   "source": [
    "df=df.dropna()"
   ]
  },
  {
   "cell_type": "code",
   "execution_count": 28,
   "id": "c13bc941",
   "metadata": {
    "ExecuteTime": {
     "end_time": "2023-01-08T20:52:05.835509Z",
     "start_time": "2023-01-08T20:52:05.819516Z"
    }
   },
   "outputs": [
    {
     "data": {
      "text/plain": [
       "Date         0\n",
       "Open         0\n",
       "High         0\n",
       "Low          0\n",
       "Close        0\n",
       "Adj Close    0\n",
       "Volume       0\n",
       "dtype: int64"
      ]
     },
     "execution_count": 28,
     "metadata": {},
     "output_type": "execute_result"
    }
   ],
   "source": [
    "df.isna().sum()"
   ]
  },
  {
   "cell_type": "code",
   "execution_count": 29,
   "id": "c745ac8b",
   "metadata": {
    "ExecuteTime": {
     "end_time": "2023-01-08T20:52:17.858960Z",
     "start_time": "2023-01-08T20:52:17.847970Z"
    }
   },
   "outputs": [],
   "source": [
    "X = ['Open', 'High', 'Low', 'Volume']\n",
    "y = pd.DataFrame(df['Adj Close'])"
   ]
  },
  {
   "cell_type": "code",
   "execution_count": 30,
   "id": "9b74b747",
   "metadata": {
    "ExecuteTime": {
     "end_time": "2023-01-08T20:52:19.297546Z",
     "start_time": "2023-01-08T20:52:19.281555Z"
    }
   },
   "outputs": [],
   "source": [
    "X=pd.DataFrame(df[X])"
   ]
  },
  {
   "cell_type": "code",
   "execution_count": 31,
   "id": "a630e287",
   "metadata": {
    "ExecuteTime": {
     "end_time": "2023-01-08T20:52:20.398198Z",
     "start_time": "2023-01-08T20:52:20.377208Z"
    }
   },
   "outputs": [
    {
     "data": {
      "text/html": [
       "<div>\n",
       "<style scoped>\n",
       "    .dataframe tbody tr th:only-of-type {\n",
       "        vertical-align: middle;\n",
       "    }\n",
       "\n",
       "    .dataframe tbody tr th {\n",
       "        vertical-align: top;\n",
       "    }\n",
       "\n",
       "    .dataframe thead th {\n",
       "        text-align: right;\n",
       "    }\n",
       "</style>\n",
       "<table border=\"1\" class=\"dataframe\">\n",
       "  <thead>\n",
       "    <tr style=\"text-align: right;\">\n",
       "      <th></th>\n",
       "      <th>Open</th>\n",
       "      <th>High</th>\n",
       "      <th>Low</th>\n",
       "      <th>Volume</th>\n",
       "    </tr>\n",
       "  </thead>\n",
       "  <tbody>\n",
       "    <tr>\n",
       "      <th>0</th>\n",
       "      <td>16.009800</td>\n",
       "      <td>16.095699</td>\n",
       "      <td>15.904300</td>\n",
       "      <td>47600787.0</td>\n",
       "    </tr>\n",
       "    <tr>\n",
       "      <th>1</th>\n",
       "      <td>16.029301</td>\n",
       "      <td>16.107401</td>\n",
       "      <td>15.826200</td>\n",
       "      <td>77143764.0</td>\n",
       "    </tr>\n",
       "    <tr>\n",
       "      <th>2</th>\n",
       "      <td>16.205000</td>\n",
       "      <td>16.943001</td>\n",
       "      <td>16.029301</td>\n",
       "      <td>95695836.0</td>\n",
       "    </tr>\n",
       "    <tr>\n",
       "      <th>3</th>\n",
       "      <td>15.912100</td>\n",
       "      <td>15.962900</td>\n",
       "      <td>15.701300</td>\n",
       "      <td>99159504.0</td>\n",
       "    </tr>\n",
       "    <tr>\n",
       "      <th>4</th>\n",
       "      <td>15.853600</td>\n",
       "      <td>15.853600</td>\n",
       "      <td>15.670000</td>\n",
       "      <td>76213503.0</td>\n",
       "    </tr>\n",
       "  </tbody>\n",
       "</table>\n",
       "</div>"
      ],
      "text/plain": [
       "        Open       High        Low      Volume\n",
       "0  16.009800  16.095699  15.904300  47600787.0\n",
       "1  16.029301  16.107401  15.826200  77143764.0\n",
       "2  16.205000  16.943001  16.029301  95695836.0\n",
       "3  15.912100  15.962900  15.701300  99159504.0\n",
       "4  15.853600  15.853600  15.670000  76213503.0"
      ]
     },
     "execution_count": 31,
     "metadata": {},
     "output_type": "execute_result"
    }
   ],
   "source": [
    "X.head()"
   ]
  },
  {
   "cell_type": "code",
   "execution_count": 32,
   "id": "972148b5",
   "metadata": {
    "ExecuteTime": {
     "end_time": "2023-01-08T20:52:27.301170Z",
     "start_time": "2023-01-08T20:52:27.284183Z"
    }
   },
   "outputs": [],
   "source": [
    "from sklearn.preprocessing import StandardScaler\n",
    "\n",
    "# Create a StandardScaler object\n",
    "scaler = StandardScaler()\n",
    "\n",
    "# Fit the scaler to the data and transform it\n",
    "X_scaled = scaler.fit_transform(X)"
   ]
  },
  {
   "cell_type": "code",
   "execution_count": 33,
   "id": "9ff8ed30",
   "metadata": {
    "ExecuteTime": {
     "end_time": "2023-01-08T20:52:28.676936Z",
     "start_time": "2023-01-08T20:52:28.666940Z"
    }
   },
   "outputs": [
    {
     "data": {
      "text/plain": [
       "array([[-1.02309827, -1.02516942, -1.02121542,  0.30572915],\n",
       "       [-1.02303586, -1.02513238, -1.02146852,  0.88467919],\n",
       "       [-1.02247356, -1.02248748, -1.02081032,  1.24824183],\n",
       "       ...,\n",
       "       [ 2.82019801,  2.79184418,  2.83262477, -0.46918523],\n",
       "       [ 2.81075668,  2.78551364,  2.73815795, -0.44027378],\n",
       "       [ 2.6885026 ,  2.67472916,  2.69424654, -0.43695484]])"
      ]
     },
     "execution_count": 33,
     "metadata": {},
     "output_type": "execute_result"
    }
   ],
   "source": [
    "X_scaled"
   ]
  },
  {
   "cell_type": "code",
   "execution_count": 34,
   "id": "9836fdb9",
   "metadata": {
    "ExecuteTime": {
     "end_time": "2023-01-08T20:52:39.251744Z",
     "start_time": "2023-01-08T20:52:39.229756Z"
    }
   },
   "outputs": [],
   "source": [
    "from sklearn.model_selection import train_test_split\n",
    "X_train, X_test, y_train, y_test = train_test_split(X_scaled, y, test_size=0.2)"
   ]
  },
  {
   "cell_type": "code",
   "execution_count": 35,
   "id": "b1dbcf7b",
   "metadata": {
    "ExecuteTime": {
     "end_time": "2023-01-08T21:17:27.359124Z",
     "start_time": "2023-01-08T20:52:45.923459Z"
    }
   },
   "outputs": [
    {
     "name": "stderr",
     "output_type": "stream",
     "text": [
      "C:\\Users\\Anas\\anaconda3\\lib\\site-packages\\sklearn\\utils\\validation.py:993: DataConversionWarning: A column-vector y was passed when a 1d array was expected. Please change the shape of y to (n_samples, ), for example using ravel().\n",
      "  y = column_or_1d(y, warn=True)\n"
     ]
    },
    {
     "data": {
      "application/vnd.jupyter.widget-view+json": {
       "model_id": "",
       "version_major": 2,
       "version_minor": 0
      },
      "text/plain": [
       "Optimization Progress:   0%|          | 0/300 [00:00<?, ?pipeline/s]"
      ]
     },
     "metadata": {},
     "output_type": "display_data"
    },
    {
     "name": "stdout",
     "output_type": "stream",
     "text": [
      "\n",
      "Generation 1 - Current best internal CV score: -281.0111702542905\n",
      "\n",
      "Generation 2 - Current best internal CV score: -271.036155330306\n",
      "\n",
      "Generation 3 - Current best internal CV score: -271.036155330306\n",
      "\n",
      "Generation 4 - Current best internal CV score: -271.036155330306\n",
      "\n",
      "Generation 5 - Current best internal CV score: -259.917047568889\n",
      "\n",
      "Best pipeline: RandomForestRegressor(RBFSampler(input_matrix, gamma=0.15000000000000002), bootstrap=True, max_features=0.6500000000000001, min_samples_leaf=10, min_samples_split=15, n_estimators=100)\n",
      "-268.98753949281075\n"
     ]
    },
    {
     "name": "stderr",
     "output_type": "stream",
     "text": [
      "C:\\Users\\Anas\\anaconda3\\lib\\site-packages\\sklearn\\utils\\validation.py:993: DataConversionWarning: A column-vector y was passed when a 1d array was expected. Please change the shape of y to (n_samples, ), for example using ravel().\n",
      "  y = column_or_1d(y, warn=True)\n"
     ]
    }
   ],
   "source": [
    "from tpot import TPOTRegressor\n",
    "tpot = TPOTRegressor(generations=5, population_size=50, verbosity=2, random_state=42)\n",
    "tpot.fit(X_train, y_train)\n",
    "print(tpot.score(X_test, y_test))\n",
    "tpot.export('tpot_boston_pipeline.py')"
   ]
  },
  {
   "cell_type": "code",
   "execution_count": null,
   "id": "8a73ef60",
   "metadata": {
    "ExecuteTime": {
     "start_time": "2023-01-08T21:18:08.538Z"
    }
   },
   "outputs": [
    {
     "name": "stderr",
     "output_type": "stream",
     "text": [
      " 71%|██████████████████████████████████████████████████████████▌                       | 30/42 [00:40<00:08,  1.47it/s]"
     ]
    }
   ],
   "source": [
    "from lazypredict.Supervised import LazyRegressor\n",
    "reg = LazyRegressor(verbose=0,ignore_warnings=False, custom_metric=None )\n",
    "models,predictions = reg.fit(X_train, X_test, y_train, y_test)"
   ]
  },
  {
   "cell_type": "code",
   "execution_count": null,
   "id": "b35c69de",
   "metadata": {},
   "outputs": [],
   "source": []
  }
 ],
 "metadata": {
  "kernelspec": {
   "display_name": "Python 3 (ipykernel)",
   "language": "python",
   "name": "python3"
  },
  "language_info": {
   "codemirror_mode": {
    "name": "ipython",
    "version": 3
   },
   "file_extension": ".py",
   "mimetype": "text/x-python",
   "name": "python",
   "nbconvert_exporter": "python",
   "pygments_lexer": "ipython3",
   "version": "3.9.12"
  }
 },
 "nbformat": 4,
 "nbformat_minor": 5
}
